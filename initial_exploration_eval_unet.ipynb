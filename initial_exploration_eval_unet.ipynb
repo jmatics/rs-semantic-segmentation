{
 "cells": [
  {
   "cell_type": "code",
   "execution_count": 1,
   "id": "1243f682-1ac2-40ec-a4ac-cfde3ce04494",
   "metadata": {},
   "outputs": [
    {
     "name": "stderr",
     "output_type": "stream",
     "text": [
      "/mnt/work/python/dkottke/pytorch/lib/python3.9/site-packages/tqdm/auto.py:22: TqdmWarning: IProgress not found. Please update jupyter and ipywidgets. See https://ipywidgets.readthedocs.io/en/stable/user_install.html\n",
      "  from .autonotebook import tqdm as notebook_tqdm\n"
     ]
    }
   ],
   "source": [
    "import torch\n",
    "from torch import nn\n",
    "torch.cuda.is_available()\n",
    "from torchgeo.samplers import RandomGeoSampler\n",
    "from torch.utils.data import DataLoader\n",
    "from torchgeo.datasets import stack_samples\n",
    "import os\n",
    "from torchgeo.datasets import RasterDataset\n",
    "import pylab as plt\n",
    "import numpy as np"
   ]
  },
  {
   "cell_type": "code",
   "execution_count": 2,
   "id": "1c3ecba0-a07a-4023-8125-a6f14b7185ac",
   "metadata": {},
   "outputs": [],
   "source": [
    "class BengaluruDataset(RasterDataset):\n",
    "    \"\"\"\n",
    "    Load xView3 polarization data that ends in *_dB.tif\n",
    "    \"\"\"\n",
    "\n",
    "    filename_glob = \"*.tif\"\n",
    "    \n",
    "\n",
    "class BengaluruDatasetLabels(RasterDataset):\n",
    "    \"\"\"\n",
    "    Load xView3 polarization data that ends in *_dB.tif\n",
    "    \"\"\"\n",
    "    is_image = False\n",
    "    filename_glob = \"*.tif\""
   ]
  },
  {
   "cell_type": "code",
   "execution_count": 3,
   "id": "f0391ae9-43f8-4a23-941b-189d4435868c",
   "metadata": {},
   "outputs": [
    {
     "name": "stdout",
     "output_type": "stream",
     "text": [
      "Converting BengaluruDatasetLabels resolution from 1.200444240953174 to 1.2004442409532352\n"
     ]
    }
   ],
   "source": [
    "# base path of the dataset\n",
    "TRAIN_PATH = os.path.join(\"Data\", \"Train\")\n",
    "TEST_PATH = os.path.join(\"Data\", \"Test\")\n",
    "\n",
    "tr_labels = lambda x: x[:,0,:,:].long()\n",
    "\n",
    "class TransBengaluruImages(nn.Module):\n",
    "    \"\"\".\"\"\"\n",
    "\n",
    "    def __init__(self):\n",
    "        super().__init__()\n",
    "\n",
    "    def forward(self, inputs):\n",
    "        inputs[\"image\"] -= inputs[\"image\"].min()\n",
    "        inputs[\"image\"] /= inputs[\"image\"].max()\n",
    "        \n",
    "        return inputs\n",
    "    \n",
    "class TransBengaluruLabels(nn.Module):\n",
    "    \"\"\".\"\"\"\n",
    "\n",
    "    def __init__(self):\n",
    "        super().__init__()\n",
    "\n",
    "    def forward(self, inputs):\n",
    "        # Batch\n",
    "        if inputs[\"mask\"].ndim == 4:\n",
    "            inputs[\"mask\"] = (inputs[\"mask\"][:,0,:,:]).long()\n",
    "        # Sample\n",
    "        else:\n",
    "            inputs[\"mask\"] = (inputs[\"mask\"][0,:,:]).long()\n",
    "        \n",
    "        return inputs\n",
    "\n",
    "ds = BengaluruDataset(os.path.join(TRAIN_PATH, \"Images\"), transforms=TransBengaluruImages())\n",
    "la = BengaluruDatasetLabels(os.path.join(TRAIN_PATH, \"Labels\"), transforms=TransBengaluruLabels())\n",
    "\n",
    "train_ds = ds & la\n",
    "\n",
    "ds2 = BengaluruDataset(os.path.join(TEST_PATH, \"Images\"), transforms=TransBengaluruImages())\n",
    "la2 = BengaluruDatasetLabels(os.path.join(TEST_PATH, \"Labels\"), transforms=TransBengaluruLabels())\n",
    "\n",
    "test_ds = ds2 & la2"
   ]
  },
  {
   "cell_type": "code",
   "execution_count": 4,
   "id": "bf5cb170-7fa7-4323-addd-6ff08bfefcea",
   "metadata": {
    "tags": []
   },
   "outputs": [],
   "source": [
    "DATASET_SIZE = 2048\n",
    "BATCH_SIZE = 128\n",
    "IMG_SIZE = 128\n",
    "\n",
    "\n",
    "train_sampler = RandomGeoSampler(train_ds, size=IMG_SIZE, length=DATASET_SIZE)\n",
    "test_sampler = RandomGeoSampler(test_ds, size=IMG_SIZE, length=DATASET_SIZE)\n",
    "\n",
    "train_dl = DataLoader(train_ds, BATCH_SIZE, sampler=train_sampler, collate_fn=stack_samples)\n",
    "test_dl  = DataLoader(test_ds, BATCH_SIZE, sampler=test_sampler, collate_fn=stack_samples)"
   ]
  },
  {
   "cell_type": "code",
   "execution_count": 5,
   "id": "343cea15-a22f-40e2-b766-3d26d128a6c6",
   "metadata": {
    "tags": []
   },
   "outputs": [],
   "source": [
    "def visualize(image, mask):\n",
    "    \"\"\"PLot images in one row.\"\"\"\n",
    "    fig = plt.figure(figsize=(16, 8))\n",
    "    #plt.imshow(image[0].transpose(0,2), vmin=0, vmax=1)\n",
    "    image /= image.numpy().max()\n",
    "    plt.imshow(image, cmap='gray')\n",
    "    #plt.imshow(image[0])\n",
    "    if mask.max()>0:\n",
    "        plt.imshow(mask/9, alpha=0.25, vmin=0, vmax=1, cmap='Set1', interpolation='nearest')\n",
    "        \n",
    "    cb = plt.colorbar(cmap='Dark2', ticks=np.linspace(0.5/9, 3.5/9, 4), boundaries=np.linspace(0,4/9,5))\n",
    "    cb.set_ticklabels(['Background', 'Soil', 'Herbaceous', 'Woody'])\n",
    "    plt.show()"
   ]
  },
  {
   "cell_type": "code",
   "execution_count": 6,
   "id": "8f960def-50bc-4b1b-92af-6127c11bfd6d",
   "metadata": {
    "tags": []
   },
   "outputs": [],
   "source": [
    "class UNET(nn.Module):\n",
    "    def __init__(self, in_channels, out_channels):\n",
    "        super().__init__()\n",
    "\n",
    "        self.conv1 = self.contract_block(in_channels, 32, 7, 3)\n",
    "        self.conv2 = self.contract_block(32, 64, 3, 1)\n",
    "        self.conv3 = self.contract_block(64, 128, 3, 1)\n",
    "        self.conv4 = self.contract_block(128, 256, 3, 1)\n",
    "\n",
    "        self.upconv4 = self.expand_block(256, 128, 3, 1)\n",
    "        self.upconv3 = self.expand_block(128*2, 64, 3, 1)\n",
    "        self.upconv2 = self.expand_block(64*2, 32, 3, 1)\n",
    "        self.upconv1 = self.expand_block(32*2, out_channels, 3, 1)\n",
    "\n",
    "    def __call__(self, x):\n",
    "\n",
    "        # downsampling part\n",
    "        conv1 = self.conv1(x)\n",
    "        conv2 = self.conv2(conv1)\n",
    "        conv3 = self.conv3(conv2)\n",
    "        conv4 = self.conv4(conv3)\n",
    "\n",
    "        upconv4 = self.upconv4(conv4)\n",
    "        upconv3 = self.upconv3(torch.cat([upconv4, conv3], 1))\n",
    "        upconv2 = self.upconv2(torch.cat([upconv3, conv2], 1))\n",
    "        upconv1 = self.upconv1(torch.cat([upconv2, conv1], 1))\n",
    "\n",
    "        return upconv1\n",
    "\n",
    "    def contract_block(self, in_channels, out_channels, kernel_size, padding):\n",
    "\n",
    "        contract = nn.Sequential(\n",
    "            torch.nn.Conv2d(in_channels, out_channels, kernel_size=kernel_size, stride=1, padding=padding),\n",
    "            torch.nn.BatchNorm2d(out_channels),\n",
    "            torch.nn.ReLU(),\n",
    "            torch.nn.Conv2d(out_channels, out_channels, kernel_size=kernel_size, stride=1, padding=padding),\n",
    "            torch.nn.BatchNorm2d(out_channels),\n",
    "            torch.nn.ReLU(),\n",
    "            torch.nn.MaxPool2d(kernel_size=3, stride=2, padding=1)\n",
    "        )\n",
    "\n",
    "        return contract\n",
    "\n",
    "    def expand_block(self, in_channels, out_channels, kernel_size, padding):\n",
    "\n",
    "        expand = nn.Sequential(torch.nn.Conv2d(in_channels, out_channels, kernel_size, stride=1, padding=padding),\n",
    "                            torch.nn.BatchNorm2d(out_channels),\n",
    "                            torch.nn.ReLU(),\n",
    "                            torch.nn.Conv2d(out_channels, out_channels, kernel_size, stride=1, padding=padding),\n",
    "                            torch.nn.BatchNorm2d(out_channels),\n",
    "                            torch.nn.ReLU(),\n",
    "                            torch.nn.ConvTranspose2d(out_channels, out_channels, kernel_size=3, stride=2, padding=1, output_padding=1) \n",
    "                            )\n",
    "        return expand"
   ]
  },
  {
   "cell_type": "code",
   "execution_count": 7,
   "id": "fde1cff5-7459-443b-b5ed-6c7e243fd509",
   "metadata": {},
   "outputs": [],
   "source": [
    "unet = torch.load('unet_128px-4ly.pt')\n",
    "unet.eval();"
   ]
  },
  {
   "cell_type": "code",
   "execution_count": 8,
   "id": "7b1726c3-6add-4209-bbd5-c613ceff8659",
   "metadata": {},
   "outputs": [
    {
     "name": "stdout",
     "output_type": "stream",
     "text": [
      "Unexpected exception formatting exception. Falling back to standard exception\n"
     ]
    },
    {
     "name": "stderr",
     "output_type": "stream",
     "text": [
      "Traceback (most recent call last):\n",
      "  File \"rasterio/_base.pyx\", line 302, in rasterio._base.DatasetBase.__init__\n",
      "  File \"rasterio/_base.pyx\", line 213, in rasterio._base.open_dataset\n",
      "  File \"rasterio/_err.pyx\", line 217, in rasterio._err.exc_wrap_pointer\n",
      "rasterio._err.CPLE_OpenFailedError: Data/Train/Labels/Labelled_P04.tif: Remote I/O error\n",
      "\n",
      "During handling of the above exception, another exception occurred:\n",
      "\n",
      "Traceback (most recent call last):\n",
      "  File \"/mnt/work/python/dkottke/pytorch/lib/python3.9/site-packages/IPython/core/interactiveshell.py\", line 3398, in run_code\n",
      "    exec(code_obj, self.user_global_ns, self.user_ns)\n",
      "  File \"/tmp/ipykernel_3968/3723953950.py\", line 1, in <cell line: 1>\n",
      "    for sample in train_dl:\n",
      "  File \"/mnt/work/python/dkottke/pytorch/lib/python3.9/site-packages/torch/utils/data/dataloader.py\", line 652, in __next__\n",
      "  File \"/mnt/work/python/dkottke/pytorch/lib/python3.9/site-packages/torch/utils/data/dataloader.py\", line 692, in _next_data\n",
      "  File \"/mnt/work/python/dkottke/pytorch/lib/python3.9/site-packages/torch/utils/data/_utils/fetch.py\", line 49, in fetch\n",
      "  File \"/mnt/work/python/dkottke/pytorch/lib/python3.9/site-packages/torch/utils/data/_utils/fetch.py\", line 49, in <listcomp>\n",
      "  File \"/mnt/work/python/dkottke/pytorch/lib/python3.9/site-packages/torchgeo/datasets/geo.py\", line 873, in __getitem__\n",
      "  File \"/mnt/work/python/dkottke/pytorch/lib/python3.9/site-packages/torchgeo/datasets/geo.py\", line 873, in <listcomp>\n",
      "  File \"/mnt/work/python/dkottke/pytorch/lib/python3.9/site-packages/torchgeo/datasets/geo.py\", line 424, in __getitem__\n",
      "  File \"/mnt/work/python/dkottke/pytorch/lib/python3.9/site-packages/torchgeo/datasets/geo.py\", line 445, in _merge_files\n",
      "  File \"/mnt/work/python/dkottke/pytorch/lib/python3.9/site-packages/torchgeo/datasets/geo.py\", line 445, in <listcomp>\n",
      "  File \"/mnt/work/python/dkottke/pytorch/lib/python3.9/site-packages/torchgeo/datasets/geo.py\", line 480, in _cached_load_warp_file\n",
      "  File \"/mnt/work/python/dkottke/pytorch/lib/python3.9/site-packages/torchgeo/datasets/geo.py\", line 491, in _load_warp_file\n",
      "  File \"/mnt/work/python/dkottke/pytorch/lib/python3.9/site-packages/rasterio/env.py\", line 442, in wrapper\n",
      "  File \"/mnt/work/python/dkottke/pytorch/lib/python3.9/site-packages/rasterio/__init__.py\", line 277, in open\n",
      "  File \"rasterio/_base.pyx\", line 304, in rasterio._base.DatasetBase.__init__\n",
      "rasterio.errors.RasterioIOError: Data/Train/Labels/Labelled_P04.tif: Remote I/O error\n",
      "\n",
      "During handling of the above exception, another exception occurred:\n",
      "\n",
      "Traceback (most recent call last):\n",
      "  File \"/mnt/work/python/dkottke/pytorch/lib/python3.9/site-packages/IPython/core/interactiveshell.py\", line 1993, in showtraceback\n",
      "    stb = self.InteractiveTB.structured_traceback(\n",
      "  File \"/mnt/work/python/dkottke/pytorch/lib/python3.9/site-packages/IPython/core/ultratb.py\", line 1118, in structured_traceback\n",
      "  File \"/mnt/work/python/dkottke/pytorch/lib/python3.9/site-packages/IPython/core/ultratb.py\", line 1012, in structured_traceback\n",
      "  File \"/mnt/work/python/dkottke/pytorch/lib/python3.9/site-packages/IPython/core/ultratb.py\", line 865, in structured_traceback\n",
      "  File \"/mnt/work/python/dkottke/pytorch/lib/python3.9/site-packages/IPython/core/ultratb.py\", line 799, in format_exception_as_a_whole\n",
      "  File \"/mnt/work/python/dkottke/pytorch/lib/python3.9/site-packages/IPython/core/ultratb.py\", line 844, in get_records\n",
      "  File \"/mnt/work/python/dkottke/pytorch/lib/python3.9/site-packages/pygments/styles/__init__.py\", line 78, in get_style_by_name\n",
      "  File \"<frozen importlib._bootstrap>\", line 1007, in _find_and_load\n",
      "  File \"<frozen importlib._bootstrap>\", line 986, in _find_and_load_unlocked\n",
      "  File \"<frozen importlib._bootstrap>\", line 680, in _load_unlocked\n",
      "  File \"<frozen importlib._bootstrap_external>\", line 846, in exec_module\n",
      "  File \"<frozen importlib._bootstrap_external>\", line 982, in get_code\n",
      "  File \"<frozen importlib._bootstrap_external>\", line 1039, in get_data\n",
      "OSError: [Errno 121] Remote I/O error: '/mnt/work/python/dkottke/pytorch/lib/python3.9/site-packages/pygments/styles/default.py'\n"
     ]
    }
   ],
   "source": [
    "for sample in train_dl:\n",
    "    idx = 0\n",
    "    image = sample[\"image\"].moveaxis(1,3)[idx, :, :, 1]\n",
    "    target = sample[\"mask\"][idx, :, :]\n",
    "    pred = unet(sample[\"image\"].cuda()).cpu()[0]\n",
    "\n",
    "    visualize(image, target)\n",
    "    visualize(image, torch.argmax(pred, 0))\n",
    "    break"
   ]
  },
  {
   "cell_type": "code",
   "execution_count": null,
   "id": "c2776eab-2561-4c00-a1aa-154936ba240c",
   "metadata": {},
   "outputs": [],
   "source": [
    "for sample in test_dl:\n",
    "    idx = 0\n",
    "    image = sample[\"image\"].moveaxis(1,3)[idx, :, :, 1]\n",
    "    target = sample[\"mask\"][idx, :, :]\n",
    "    pred = unet(sample[\"image\"].cuda()).cpu()[0]\n",
    "\n",
    "    visualize(image, target)\n",
    "    visualize(image, torch.argmax(pred, 0))\n",
    "    break"
   ]
  }
 ],
 "metadata": {
  "kernelspec": {
   "display_name": "Python 3 (ipykernel)",
   "language": "python",
   "name": "python3"
  },
  "language_info": {
   "codemirror_mode": {
    "name": "ipython",
    "version": 3
   },
   "file_extension": ".py",
   "mimetype": "text/x-python",
   "name": "python",
   "nbconvert_exporter": "python",
   "pygments_lexer": "ipython3",
   "version": "3.9.12"
  }
 },
 "nbformat": 4,
 "nbformat_minor": 5
}
